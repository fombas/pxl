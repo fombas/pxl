{
 "cells": [
  {
   "cell_type": "code",
   "execution_count": 4,
   "id": "e96e060d-2c4a-492b-8df3-39584e85e297",
   "metadata": {
    "tags": []
   },
   "outputs": [
    {
     "name": "stdout",
     "output_type": "stream",
     "text": [
      "Requirement already satisfied: scikit-learn in ./venv-310/lib/python3.10/site-packages (1.5.2)\n",
      "Requirement already satisfied: numpy>=1.19.5 in ./venv-310/lib/python3.10/site-packages (from scikit-learn) (1.26.4)\n",
      "Requirement already satisfied: scipy>=1.6.0 in ./venv-310/lib/python3.10/site-packages (from scikit-learn) (1.14.1)\n",
      "Requirement already satisfied: joblib>=1.2.0 in ./venv-310/lib/python3.10/site-packages (from scikit-learn) (1.4.2)\n",
      "Requirement already satisfied: threadpoolctl>=3.1.0 in ./venv-310/lib/python3.10/site-packages (from scikit-learn) (3.5.0)\n"
     ]
    }
   ],
   "source": [
    "!pip install scikit-learn"
   ]
  },
  {
   "cell_type": "code",
   "execution_count": 5,
   "id": "12866f5e-35f1-428b-b0e1-6456b597c84f",
   "metadata": {},
   "outputs": [],
   "source": [
    "# Load TSAI Antwerp data\n",
    "\n",
    "import pandas as pd\n",
    "import matplotlib.pyplot as plt\n",
    "import numpy as np\n",
    "from sklearn.model_selection import TimeSeriesSplit\n",
    "from sklearn.linear_model import LinearRegression\n",
    "from sklearn.metrics import mean_absolute_error, mean_squared_error\n",
    "from sklearn.neural_network import MLPClassifier"
   ]
  },
  {
   "cell_type": "code",
   "execution_count": 6,
   "id": "13f852e9-5890-4d1a-a3ff-739225cd728d",
   "metadata": {},
   "outputs": [],
   "source": [
    "# Load the TSAI Antwerp Dataset\n",
    "data = pd.read_feather('tsai-antwerp_data.feather')\n",
    "data = data[~data['series name'].str.contains('CV')]\n",
    "data = data[data['ts'] < '2024-03-31 23:59:59+00:00']"
   ]
  },
  {
   "cell_type": "code",
   "execution_count": 1,
   "id": "e4b15173-74a8-4e2b-95be-08e4c6757529",
   "metadata": {},
   "outputs": [],
   "source": [
    "# Prepare the Data\n"
   ]
  }
 ],
 "metadata": {
  "kernelspec": {
   "display_name": "Python 3.10 arm",
   "language": "python",
   "name": "venv-310-arm"
  },
  "language_info": {
   "codemirror_mode": {
    "name": "ipython",
    "version": 3
   },
   "file_extension": ".py",
   "mimetype": "text/x-python",
   "name": "python",
   "nbconvert_exporter": "python",
   "pygments_lexer": "ipython3",
   "version": "3.10.15"
  }
 },
 "nbformat": 4,
 "nbformat_minor": 5
}
